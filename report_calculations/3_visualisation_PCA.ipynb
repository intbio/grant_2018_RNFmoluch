{
 "cells": [
  {
   "cell_type": "code",
   "execution_count": 1,
   "metadata": {},
   "outputs": [],
   "source": [
    "from funcs import view_nucl"
   ]
  },
  {
   "cell_type": "code",
   "execution_count": 11,
   "metadata": {},
   "outputs": [
    {
     "name": "stderr",
     "output_type": "stream",
     "text": [
      "/opt/miniconda3/envs/moldyn/lib/python3.7/site-packages/MDAnalysis/coordinates/XDR.py:212: UserWarning: Couldn't save offsets because: [Errno 13] Permission denied: '/home/_shared/_projects/gmx_template/big_data/.interp4.xtc_offsets.npz'\n",
      "  warnings.warn(\"Couldn't save offsets because: {}\".format(e))\n"
     ]
    },
    {
     "data": {
      "application/vnd.jupyter.widget-view+json": {
       "model_id": "ed56047a07cb47f8a41578125116d85a",
       "version_major": 2,
       "version_minor": 0
      },
      "text/plain": [
       "NGLWidget(count=50)"
      ]
     },
     "metadata": {},
     "output_type": "display_data"
    }
   ],
   "source": [
    "view=view_nucl('/home/_shared/_projects/gmx_template/GMX_system/prot_bb-h_ref.pdb','/home/_shared/_projects/gmx_template/big_data/interp4.xtc',gui=False)\n",
    "view"
   ]
  },
  {
   "cell_type": "code",
   "execution_count": 26,
   "metadata": {},
   "outputs": [],
   "source": [
    "view.frame=0\n",
    "view.download_image('dimer_frame0.png',factor=2,transparent=True)\n",
    "view.frame=49\n",
    "view.download_image('dimer_frame49.png',factor=2,transparent=True)"
   ]
  },
  {
   "cell_type": "code",
   "execution_count": 27,
   "metadata": {},
   "outputs": [
    {
     "name": "stderr",
     "output_type": "stream",
     "text": [
      "/opt/miniconda3/envs/moldyn/lib/python3.7/site-packages/MDAnalysis/coordinates/XDR.py:195: UserWarning: Reload offsets from trajectory\n",
      " ctime or size or n_atoms did not match\n",
      "  warnings.warn(\"Reload offsets from trajectory\\n \"\n"
     ]
    },
    {
     "data": {
      "application/vnd.jupyter.widget-view+json": {
       "model_id": "d6fd7bde69d645868a6b718e98951032",
       "version_major": 2,
       "version_minor": 0
      },
      "text/plain": [
       "NGLWidget(count=50)"
      ]
     },
     "metadata": {},
     "output_type": "display_data"
    }
   ],
   "source": [
    "view=view_nucl('/home/_shared/_projects/2018_h3-h4_dyn/h3-h4_2_tm_60DNA_MD/GMX_system/prot_bb-h_ref.pdb','/home/_shared/_projects/2018_h3-h4_dyn/h3-h4_2_tm_60DNA_MD/big_data/interp4.xtc',gui=False)\n",
    "view"
   ]
  },
  {
   "cell_type": "code",
   "execution_count": 29,
   "metadata": {},
   "outputs": [],
   "source": [
    "#view.frame=0\n",
    "#view.download_image('tetramer_frame0.png',factor=2,transparent=True)\n",
    "view.frame=49\n",
    "view.download_image('tetramer_frame49.png',factor=2,transparent=True)"
   ]
  }
 ],
 "metadata": {
  "kernelspec": {
   "display_name": "Python [conda env:moldyn]",
   "language": "python",
   "name": "conda-env-moldyn-py"
  },
  "language_info": {
   "codemirror_mode": {
    "name": "ipython",
    "version": 3
   },
   "file_extension": ".py",
   "mimetype": "text/x-python",
   "name": "python",
   "nbconvert_exporter": "python",
   "pygments_lexer": "ipython3",
   "version": "3.7.1"
  }
 },
 "nbformat": 4,
 "nbformat_minor": 2
}
