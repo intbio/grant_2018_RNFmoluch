{
 "cells": [
  {
   "cell_type": "code",
   "execution_count": null,
   "metadata": {},
   "outputs": [],
   "source": [
    "%%bash\n",
    "mkdir -p structures\n",
    "# Theese are from https://www.zotero.org/groups/2305375/intbio/items/collectionKey/3I9NMZSM/itemKey/MUUI57W3\n",
    "wget https://files.rcsb.org/download/6ESF.pdb -O structures/CrEM_unwr_1class.pdb\n",
    "wget https://files.rcsb.org/download/6ESG.pdb -O structures/CrEM_unwr_2class.pdb\n",
    "wget https://files.rcsb.org/download/6ESH.pdb -O structures/CrEM_unwr_3class.pdb\n",
    "wget https://files.rcsb.org/download/6ESI.pdb -O structures/CrEM_unwr_4class.pdb\n",
    "\n",
    "# Theese are from https://www.zotero.org/groups/2305375/intbio/items/collectionKey/3I9NMZSM/itemKey/AR2H38EW\n",
    "wget https://files.rcsb.org/download/6FQ5.pdb -O structures/CrEM_transloc_1class.pdb\n",
    "wget https://files.rcsb.org/download/6FQ6.pdb -O structures/CrEM_transloc_2class.pdb\n",
    "wget https://files.rcsb.org/download/6FQ8.pdb -O structures/CrEM_transloc_3class.pdb"
   ]
  },
  {
   "cell_type": "code",
   "execution_count": 67,
   "metadata": {},
   "outputs": [],
   "source": [
    "import nglview as nv\n",
    "import MDAnalysis as mda\n",
    "from MDAnalysis.analysis import align"
   ]
  },
  {
   "cell_type": "markdown",
   "metadata": {},
   "source": [
    "### Creating tetrasomes from Bilocapic unwrapping classes"
   ]
  },
  {
   "cell_type": "code",
   "execution_count": 14,
   "metadata": {},
   "outputs": [
    {
     "data": {
      "application/vnd.jupyter.widget-view+json": {
       "model_id": "79cee6dd48e542af85c7e4526a0f9fcb",
       "version_major": 2,
       "version_minor": 0
      },
      "text/plain": [
       "NGLWidget()"
      ]
     },
     "metadata": {},
     "output_type": "display_data"
    }
   ],
   "source": [
    "view=nv.show_structure_file('structures/CrEM_unwr_1class.pdb')\n",
    "view.add_component(nv.FileStructure('structures/CrEM_unwr_2class.pdb'))\n",
    "view.add_component(nv.FileStructure('structures/CrEM_unwr_3class.pdb'))\n",
    "view.add_component(nv.FileStructure('structures/CrEM_unwr_4class.pdb'))\n",
    "view"
   ]
  },
  {
   "cell_type": "code",
   "execution_count": 63,
   "metadata": {},
   "outputs": [
    {
     "name": "stdout",
     "output_type": "stream",
     "text": [
      "3799\n",
      "3799\n",
      "3799\n",
      "3799\n"
     ]
    }
   ],
   "source": [
    "for struc in [\"structures/CrEM_unwr_1class.pdb\", \"structures/CrEM_unwr_2class.pdb\", \"structures/CrEM_unwr_3class.pdb\", \"structures/CrEM_unwr_4class.pdb\"]:\n",
    "    nucl=mda.Universe(struc)\n",
    "    #tetr=nucl.select_atoms(\"(segid I J  and (resid 45:104 or (resid 44 and not (name P OP1 OP2)))) or (segid A E  and (resid 44:135 or (resid 43 and name C O CA))) or (segid B F and (resid 23:102 or (resid 22 and name C O CA)))\")\n",
    "    ids=' '.join(map(str,range(-29,31)))\n",
    "    #sel_text=\"(segid A E  and (resid 44:135 or (resid 43 and name C O CA))) or (segid B F and (resid 23:102 or (resid 22 and name C O CA)))\"\n",
    "    # This selection allow us to create traj\n",
    "    sel_text=\"(segid I J  and (resnum %s or (resnum -30 and not (name P OP1 OP2)))) or ((segid A E  and (resid 48:133 )) or (segid B F and (resid 25:101 )) and backbone)\"%ids\n",
    "    #(segid I J  and (resnum %s or (resnum -30 and not (name P OP1 OP2)))) or  %ids\n",
    "    #and we take first solvation shell\n",
    "    tetr=nucl.select_atoms(sel_text)\n",
    "    print(len(tetr.atoms))\n",
    "\n",
    "    nucl.select_atoms(\"name OP1\").atoms.names='O1P'\n",
    "    nucl.select_atoms(\"name OP2\").atoms.names='O2P'\n",
    "\n",
    "\n",
    "\n",
    "    nucl.trajectory.remarks=[]\n",
    "    nucl.trajectory.compound=[]\n",
    "    nucl.trajectory.header=[]\n",
    "\n",
    "    #print(dimer.atoms.names)\n",
    "    tetr.write('%s_tetra.pdb'%struc[:-4])"
   ]
  },
  {
   "cell_type": "code",
   "execution_count": 76,
   "metadata": {},
   "outputs": [
    {
     "name": "stderr",
     "output_type": "stream",
     "text": [
      "/opt/miniconda3/envs/moldyn/lib/python3.7/site-packages/MDAnalysis/coordinates/base.py:836: UserWarning: Reader has no dt information, set to 1.0 ps\n",
      "  warnings.warn(\"Reader has no dt information, set to 1.0 ps\")\n"
     ]
    },
    {
     "data": {
      "application/vnd.jupyter.widget-view+json": {
       "model_id": "66055e8b5e6e4b3397709c7e803463f2",
       "version_major": 2,
       "version_minor": 0
      },
      "text/plain": [
       "NGLWidget(count=4)"
      ]
     },
     "metadata": {},
     "output_type": "display_data"
    }
   ],
   "source": [
    "nucl=mda.Universe(\"structures/CrEM_unwr_1class_tetra.pdb\",\"structures/CrEM_unwr_1class_tetra.pdb\", \"structures/CrEM_unwr_2class_tetra.pdb\", \"structures/CrEM_unwr_3class_tetra.pdb\", \"structures/CrEM_unwr_4class_tetra.pdb\")\n",
    "alignment = align.AlignTraj(nucl, nucl,in_memory=True)\n",
    "alignment.run()\n",
    "nucl.atoms.write('structures/CrEM_unwr_tetra_trj.xtc',frames=nucl.trajectory[:])\n",
    "nv.show_mdanalysis(mda.Universe(\"structures/CrEM_unwr_1class_tetra.pdb\",'structures/CrEM_unwr_tetra_trj.xtc'))"
   ]
  },
  {
   "cell_type": "markdown",
   "metadata": {},
   "source": [
    "### Creating tetrasomes from Bilocapic DNA translocation classes"
   ]
  },
  {
   "cell_type": "code",
   "execution_count": 87,
   "metadata": {},
   "outputs": [
    {
     "name": "stdout",
     "output_type": "stream",
     "text": [
      "3831\n",
      "3831\n",
      "3831\n"
     ]
    }
   ],
   "source": [
    "for struc in [\"structures/CrEM_transloc_1class.pdb\", \"structures/CrEM_transloc_2class.pdb\", \"structures/CrEM_transloc_3class.pdb\"]:\n",
    "    nucl=mda.Universe(struc)\n",
    "    #tetr=nucl.select_atoms(\"(segid I J  and (resid 45:104 or (resid 44 and not (name P OP1 OP2)))) or (segid A E  and (resid 44:135 or (resid 43 and name C O CA))) or (segid B F and (resid 23:102 or (resid 22 and name C O CA)))\")\n",
    "    ids=' '.join(map(str,range(-29,31)))\n",
    "    #sel_text=\"(segid A E  and (resid 44:135 or (resid 43 and name C O CA))) or (segid B F and (resid 23:102 or (resid 22 and name C O CA)))\"\n",
    "    # This selection allow us to create traj\n",
    "    sel_text=\"(segid I J  and (resnum %s or (resnum -30 and not (name P OP1 OP2)))) or ((segid A E  and (resid 44:132 )) or (segid B F and (resid 23:100 )) and backbone)\"%ids\n",
    "    #(segid I J  and (resnum %s or (resnum -30 and not (name P OP1 OP2)))) or  %ids\n",
    "    #and we take first solvation shell\n",
    "    tetr=nucl.select_atoms(sel_text)\n",
    "    print(len(tetr.atoms))\n",
    "\n",
    "    nucl.select_atoms(\"name OP1\").atoms.names='O1P'\n",
    "    nucl.select_atoms(\"name OP2\").atoms.names='O2P'\n",
    "\n",
    "\n",
    "\n",
    "    nucl.trajectory.remarks=[]\n",
    "    nucl.trajectory.compound=[]\n",
    "    nucl.trajectory.header=[]\n",
    "\n",
    "    #print(dimer.atoms.names)\n",
    "    tetr.write('%s_tetra.pdb'%struc[:-4])"
   ]
  },
  {
   "cell_type": "code",
   "execution_count": 89,
   "metadata": {},
   "outputs": [
    {
     "name": "stderr",
     "output_type": "stream",
     "text": [
      "/opt/miniconda3/envs/moldyn/lib/python3.7/site-packages/MDAnalysis/coordinates/base.py:836: UserWarning: Reader has no dt information, set to 1.0 ps\n",
      "  warnings.warn(\"Reader has no dt information, set to 1.0 ps\")\n"
     ]
    },
    {
     "data": {
      "application/vnd.jupyter.widget-view+json": {
       "model_id": "fafe09bb3b2c44749d22cc6bf70d5883",
       "version_major": 2,
       "version_minor": 0
      },
      "text/plain": [
       "NGLWidget(count=3)"
      ]
     },
     "metadata": {},
     "output_type": "display_data"
    }
   ],
   "source": [
    "nucl=mda.Universe(\"structures/CrEM_transloc_1class_tetra.pdb\",\"structures/CrEM_transloc_1class_tetra.pdb\", \"structures/CrEM_transloc_2class_tetra.pdb\", \"structures/CrEM_transloc_3class_tetra.pdb\")\n",
    "alignment = align.AlignTraj(nucl, nucl,in_memory=True)\n",
    "alignment.run()\n",
    "nucl.atoms.write('structures/CrEM_transloc_tetra_trj.xtc',frames=nucl.trajectory[:])\n",
    "nv.show_mdanalysis(mda.Universe(\"structures/CrEM_transloc_1class_tetra.pdb\",'structures/CrEM_transloc_tetra_trj.xtc'))"
   ]
  }
 ],
 "metadata": {
  "kernelspec": {
   "display_name": "Python [conda env:moldyn]",
   "language": "python",
   "name": "conda-env-moldyn-py"
  },
  "language_info": {
   "codemirror_mode": {
    "name": "ipython",
    "version": 3
   },
   "file_extension": ".py",
   "mimetype": "text/x-python",
   "name": "python",
   "nbconvert_exporter": "python",
   "pygments_lexer": "ipython3",
   "version": "3.7.1"
  }
 },
 "nbformat": 4,
 "nbformat_minor": 2
}
